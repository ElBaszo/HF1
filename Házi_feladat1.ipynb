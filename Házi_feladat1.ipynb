{
    "metadata": {
        "kernelspec": {
            "name": "SQL",
            "display_name": "SQL",
            "language": "sql"
        },
        "language_info": {
            "name": "sql",
            "version": ""
        }
    },
    "nbformat_minor": 2,
    "nbformat": 4,
    "cells": [
        {
            "cell_type": "code",
            "source": [
                "SELECT COUNT(*) AS \"SORASZAM\",\r\n",
                "        SUM(CASE WHEN LISTAAR IS NULL THEN 1 ELSE 0 END) AS '0 ÉRTÉKEK',\r\n",
                "        ROUND(100*SUM(CASE WHEN LISTAAR IS NULL THEN 1 ELSE 0 END)/COUNT(*),2) AS 'SZÁZALÉK',\r\n",
                "        MAX(LISTAAR) AS 'MAXIMUM',\r\n",
                "        MIN(LISTAAR)AS 'MINIMUM',\r\n",
                "        AVG(LISTAAR)AS 'ÁTLAG',\r\n",
                "        VAR(LISTAAR) AS 'VARIANCIA'\r\n",
                "FROM Termek\r\n",
                ""
            ],
            "metadata": {
                "azdata_cell_guid": "96a9b1b5-3891-4d68-9d2a-c10df270abaf",
                "language": "sql",
                "tags": []
            },
            "outputs": [
                {
                    "output_type": "display_data",
                    "data": {
                        "text/html": "(1 row affected)"
                    },
                    "metadata": {}
                },
                {
                    "output_type": "display_data",
                    "data": {
                        "text/html": "Total execution time: 00:00:00.022"
                    },
                    "metadata": {}
                },
                {
                    "output_type": "execute_result",
                    "metadata": {},
                    "execution_count": 21,
                    "data": {
                        "application/vnd.dataresource+json": {
                            "schema": {
                                "fields": [
                                    {
                                        "name": "SORASZAM"
                                    },
                                    {
                                        "name": "0 ÉRTÉKEK"
                                    },
                                    {
                                        "name": "SZÁZALÉK"
                                    },
                                    {
                                        "name": "MAXIMUM"
                                    },
                                    {
                                        "name": "MINIMUM"
                                    },
                                    {
                                        "name": "ÁTLAG"
                                    },
                                    {
                                        "name": "VARIANCIA"
                                    }
                                ]
                            },
                            "data": [
                                {
                                    "SORASZAM": "551",
                                    "0 ÉRTÉKEK": "0",
                                    "SZÁZALÉK": "0",
                                    "MAXIMUM": "46000",
                                    "MINIMUM": "0",
                                    "ÁTLAG": "786,2813067150635",
                                    "VARIANCIA": "12977870,529813562"
                                }
                            ]
                        },
                        "text/html": [
                            "<table>",
                            "<tr><th>SORASZAM</th><th>0 ÉRTÉKEK</th><th>SZÁZALÉK</th><th>MAXIMUM</th><th>MINIMUM</th><th>ÁTLAG</th><th>VARIANCIA</th></tr>",
                            "<tr><td>551</td><td>0</td><td>0</td><td>46000</td><td>0</td><td>786,2813067150635</td><td>12977870,529813562</td></tr>",
                            "</table>"
                        ]
                    }
                }
            ],
            "execution_count": 21
        },
        {
            "cell_type": "code",
            "source": [
                "SELECT COUNT(*) AS \"SORASZAM\",\r\n",
                "        SUM(CASE WHEN KESZLET IS NULL THEN 1 ELSE 0 END) AS '0 ÉRTÉKEK',\r\n",
                "        ROUND(100*SUM(CASE WHEN KESZLET IS NULL THEN 1 ELSE 0 END)/COUNT(*),2) AS 'SZÁZALÉK',\r\n",
                "        MAX(KESZLET) AS 'MAXIMUM',\r\n",
                "        MIN(KESZLET) AS 'MINIMUM',\r\n",
                "        AVG(KESZLET) AS 'ÁTLAG',\r\n",
                "        VAR(KESZLET) AS 'VARIANCIA'\r\n",
                "FROM Termek"
            ],
            "metadata": {
                "azdata_cell_guid": "2c60ec0d-e637-4a2c-8ba7-f5e45509b725",
                "language": "sql"
            },
            "outputs": [
                {
                    "output_type": "display_data",
                    "data": {
                        "text/html": "(1 row affected)"
                    },
                    "metadata": {}
                },
                {
                    "output_type": "display_data",
                    "data": {
                        "text/html": "Total execution time: 00:00:00.040"
                    },
                    "metadata": {}
                },
                {
                    "output_type": "execute_result",
                    "metadata": {
                        "azdata_chartOptions": {
                            "type": "bar",
                            "dataDirection": "horizontal",
                            "columnsAsLabels": true,
                            "labelFirstColumn": false,
                            "legendPosition": "top"
                        }
                    },
                    "execution_count": 20,
                    "data": {
                        "application/vnd.dataresource+json": {
                            "schema": {
                                "fields": [
                                    {
                                        "name": "SORASZAM"
                                    },
                                    {
                                        "name": "0 ÉRTÉKEK"
                                    },
                                    {
                                        "name": "SZÁZALÉK"
                                    },
                                    {
                                        "name": "(No column name)"
                                    },
                                    {
                                        "name": "(No column name)"
                                    },
                                    {
                                        "name": "(No column name)"
                                    },
                                    {
                                        "name": "(No column name)"
                                    }
                                ]
                            },
                            "data": [
                                {
                                    "SORASZAM": "551",
                                    "0 ÉRTÉKEK": "0",
                                    "SZÁZALÉK": "0",
                                    "(No column name)": "21200385,34719023"
                                }
                            ]
                        },
                        "text/html": [
                            "<table>",
                            "<tr><th>SORASZAM</th><th>0 ÉRTÉKEK</th><th>SZÁZALÉK</th><th>(No column name)</th><th>(No column name)</th><th>(No column name)</th><th>(No column name)</th></tr>",
                            "<tr><td>551</td><td>0</td><td>0</td><td>50000</td><td>0</td><td>1585,9909255898367</td><td>21200385,34719023</td></tr>",
                            "</table>"
                        ]
                    }
                }
            ],
            "execution_count": 20
        },
        {
            "cell_type": "code",
            "source": [
                "SELECT COUNT(*) AS \"SORASZAM\",\r\n",
                "        SUM(CASE WHEN KESZLET IS NULL THEN 1 ELSE 0 END) AS '0 ÉRTÉKEK',\r\n",
                "        ROUND(100*SUM(CASE WHEN LISTAAR IS NULL THEN 1 ELSE 0 END)/COUNT(*),2) AS 'SZÁZALÉK',\r\n",
                "        MAX(KESZLET) AS 'MAXIMUM',\r\n",
                "        MIN(KESZLET) AS 'MINIMUM',\r\n",
                "        AVG(KESZLET) AS 'ÁTLAG',\r\n",
                "        VAR(KESZLET)AS 'VARIANCIA'\r\n",
                "FROM Termek"
            ],
            "metadata": {
                "azdata_cell_guid": "581cc803-5b59-4ca1-9493-62d8143e5c24",
                "language": "sql"
            },
            "outputs": [
                {
                    "output_type": "display_data",
                    "data": {
                        "text/html": "(1 row affected)"
                    },
                    "metadata": {}
                },
                {
                    "output_type": "display_data",
                    "data": {
                        "text/html": "Total execution time: 00:00:00.067"
                    },
                    "metadata": {}
                },
                {
                    "output_type": "execute_result",
                    "metadata": {},
                    "execution_count": 19,
                    "data": {
                        "application/vnd.dataresource+json": {
                            "schema": {
                                "fields": [
                                    {
                                        "name": "SORASZAM"
                                    },
                                    {
                                        "name": "0 ÉRTÉKEK"
                                    },
                                    {
                                        "name": "SZÁZALÉK"
                                    },
                                    {
                                        "name": "(No column name)"
                                    },
                                    {
                                        "name": "(No column name)"
                                    },
                                    {
                                        "name": "(No column name)"
                                    },
                                    {
                                        "name": "(No column name)"
                                    }
                                ]
                            },
                            "data": [
                                {
                                    "SORASZAM": "551",
                                    "0 ÉRTÉKEK": "0",
                                    "SZÁZALÉK": "0",
                                    "(No column name)": "21200385,34719023"
                                }
                            ]
                        },
                        "text/html": [
                            "<table>",
                            "<tr><th>SORASZAM</th><th>0 ÉRTÉKEK</th><th>SZÁZALÉK</th><th>(No column name)</th><th>(No column name)</th><th>(No column name)</th><th>(No column name)</th></tr>",
                            "<tr><td>551</td><td>0</td><td>0</td><td>50000</td><td>0</td><td>1585,9909255898367</td><td>21200385,34719023</td></tr>",
                            "</table>"
                        ]
                    }
                }
            ],
            "execution_count": 19
        }
    ]
}